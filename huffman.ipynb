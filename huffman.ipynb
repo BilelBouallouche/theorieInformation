{
 "cells": [
  {
   "cell_type": "code",
   "execution_count": 1,
   "metadata": {},
   "outputs": [],
   "source": [
    "source_fr = {\n",
    "    ' ': 0.1834, 'a': 0.0640, 'b': 0.0064, 'c': 0.0259, 'd': 0.0260,\n",
    "    'e': 0.1486, 'f': 0.0078, 'g': 0.0083, 'h': 0.0061, 'i': 0.0591,\n",
    "    'j': 0.0023, 'k': 0.0001, 'l': 0.0465, 'm': 0.0245, 'n': 0.0623,\n",
    "    'o': 0.0459, 'p': 0.0256, 'q': 0.0081, 'r': 0.0555, 's': 0.0697,\n",
    "    't': 0.0572, 'u': 0.0506, 'v': 0.0100, 'w': 0.0001, 'x': 0.0031,\n",
    "    'y': 0.0021, 'z': 0.0008\n",
    "}"
   ]
  },
  {
   "cell_type": "code",
   "execution_count": 2,
   "metadata": {},
   "outputs": [],
   "source": [
    "class arbre:\n",
    "    def __init__(self, gauche, droite, lettre, poids):\n",
    "        self.gauche = gauche\n",
    "        self.droite = droite\n",
    "        self.poids = poids\n",
    "        self.lettre = lettre\n",
    "    def __str__(self):\n",
    "        if self.lettre != None:\n",
    "            return str(\"%.4f\" % self.poids) + \" (\" + str(self.lettre) + \")\"\n",
    "        else:\n",
    "            return str(\"%.4f\" % self.poids) + self.gauche._str(\"\\n. \") + self.droit._str(\"\\n. \")\n",
    "    def _str(self, prefix):\n",
    "        if self.lettre != None:\n",
    "            return prefix + str(\"%.4f\" % self.poids) + \" (\" + str(self.lettre) + \")\"\n",
    "        else:\n",
    "            return prefix + str(\"%.4f\" % self.poids) + self.gauche._str(prefix + \". \") + self.droit._str(prefix + \". \")\n",
    "    def __repr__(self):\n",
    "        if self.lettre != None:\n",
    "            return repr((self.poids, self.lettre))\n",
    "        else:\n",
    "            return repr((self.poids, self.gauche, self.droit))\n",
    "\n",
    "def fusion_huffman(arbre1, arbre2):\n",
    "    return arbre(arbre1, arbre2, arbre1.lettre+arbre2.lettre, arbre1.poids+arbre2.poids)\n",
    "\n",
    "def feuille_huffman(lettre, source):\n",
    "    return arbre(None, None, lettre, source[lettre])\n",
    "    \n",
    "        "
   ]
  },
  {
   "cell_type": "code",
   "execution_count": 3,
   "metadata": {},
   "outputs": [],
   "source": [
    "def arbre_huffman(source):\n",
    "    ponderations_noeuds = []\n",
    "    arbre = None\n",
    "    for lettre in source:\n",
    "        f = feuille_huffman(lettre, source)\n",
    "        ponderations_noeuds.append((lettre, f.poids, f))\n",
    "    #ponderations_noeuds.sort(key=lambda x: x[1])\n",
    "    \n",
    "    while len(ponderations_noeuds) > 1:\n",
    "        ponderations_noeuds.sort(key=lambda x: x[1], reverse=True)\n",
    "        #print(ponderations_noeuds)\n",
    "        lettre1, pond1, f1 = ponderations_noeuds[len(ponderations_noeuds)-1]\n",
    "        lettre2, pond2, f2 = ponderations_noeuds[len(ponderations_noeuds)-2]\n",
    "        arbre = fusion_huffman(f1, f2)\n",
    "        ponderations_noeuds.remove((lettre1, pond1, f1))\n",
    "        ponderations_noeuds.remove((lettre2, pond2, f2))\n",
    "        ponderations_noeuds.append((arbre.lettre, arbre.poids, arbre))\n",
    "        #print(str(arbre) + \"\\n\\t\" + str(arbre.gauche) + \" \" + str(arbre.droite))\n",
    "        \n",
    "    \n",
    "    return arbre"
   ]
  },
  {
   "cell_type": "code",
   "execution_count": 4,
   "metadata": {},
   "outputs": [],
   "source": [
    "code = arbre_huffman(source_fr)"
   ]
  },
  {
   "cell_type": "code",
   "execution_count": 5,
   "metadata": {},
   "outputs": [
    {
     "name": "stdout",
     "output_type": "stream",
     "text": [
      "1.0000 (olvhbmupcrtdfqgxjwkzyinase )\n",
      "|-> 0.4129 (olvhbmupcrtdfqgxjwkzy)\n",
      "|--> 0.1900 (olvhbmu)\n",
      "|---> 0.0924 (ol)\n",
      "|----> 0.0459 (o)\n",
      "|----> 0.0465 (l)\n",
      "|---> 0.0976 (vhbmu)\n",
      "|-------> 0.0470 (vhbm)\n",
      "|--------> 0.0225 (vhb)\n",
      "|---------> 0.0100 (v)\n",
      "|---------> 0.0125 (hb)\n",
      "|-----------> 0.0061 (h)\n",
      "|-----------> 0.0064 (b)\n",
      "|--------> 0.0245 (m)\n",
      "|-------> 0.0506 (u)\n",
      "|--> 0.2229 (pcrtdfqgxjwkzy)\n",
      "|----------------> 0.1070 (pcr)\n",
      "|-----------------> 0.0515 (pc)\n",
      "|------------------> 0.0256 (p)\n",
      "|------------------> 0.0259 (c)\n",
      "|-----------------> 0.0555 (r)\n",
      "|----------------> 0.1159 (tdfqgxjwkzy)\n",
      "|----------------------> 0.0572 (t)\n",
      "|----------------------> 0.0587 (dfqgxjwkzy)\n",
      "|------------------------> 0.0260 (d)\n",
      "|------------------------> 0.0327 (fqgxjwkzy)\n",
      "|--------------------------> 0.0159 (fq)\n",
      "|---------------------------> 0.0078 (f)\n",
      "|---------------------------> 0.0081 (q)\n",
      "|--------------------------> 0.0168 (gxjwkzy)\n",
      "|------------------------------> 0.0083 (g)\n",
      "|------------------------------> 0.0085 (xjwkzy)\n",
      "|--------------------------------> 0.0031 (x)\n",
      "|--------------------------------> 0.0054 (jwkzy)\n",
      "|----------------------------------> 0.0023 (j)\n",
      "|----------------------------------> 0.0031 (wkzy)\n",
      "|------------------------------------> 0.0010 (wkz)\n",
      "|-------------------------------------> 0.0002 (wk)\n",
      "|--------------------------------------> 0.0001 (w)\n",
      "|--------------------------------------> 0.0001 (k)\n",
      "|-------------------------------------> 0.0008 (z)\n",
      "|------------------------------------> 0.0021 (y)\n",
      "|-> 0.5871 (inase )\n",
      "|-------------------------------------------> 0.2551 (inas)\n",
      "|--------------------------------------------> 0.1214 (in)\n",
      "|---------------------------------------------> 0.0591 (i)\n",
      "|---------------------------------------------> 0.0623 (n)\n",
      "|--------------------------------------------> 0.1337 (as)\n",
      "|------------------------------------------------> 0.0640 (a)\n",
      "|------------------------------------------------> 0.0697 (s)\n",
      "|-------------------------------------------> 0.3320 (e )\n",
      "|---------------------------------------------------> 0.1486 (e)\n",
      "|---------------------------------------------------> 0.1834 ( )\n"
     ]
    }
   ],
   "source": [
    "i=0\n",
    "def affichage_arbre_huffman(arbre):\n",
    "    if arbre==None:\n",
    "        print(\"ici\")\n",
    "        return\n",
    "    global i\n",
    "    i += 1\n",
    "    s = \"|\" + \"-\"*i\n",
    "    print(arbre)\n",
    "    if arbre.gauche!=None:\n",
    "        print(s+\"> \", end=\"\")\n",
    "        affichage_arbre_huffman(arbre.gauche)\n",
    "      \n",
    "    if arbre.droite!=None:\n",
    "        print(s+\"> \", end=\"\")\n",
    "        affichage_arbre_huffman(arbre.droite)\n",
    "    \n",
    "affichage_arbre_huffman(code)"
   ]
  },
  {
   "cell_type": "code",
   "execution_count": 6,
   "metadata": {},
   "outputs": [],
   "source": [
    "def longueur_moyenne(code):\n",
    "    def longueur_moyenne_rec(code, profondeur):\n",
    "        if code.gauche == None and code.droite == None:\n",
    "            return profondeur*code.poids\n",
    "        lg = 0\n",
    "        ld = 0\n",
    "        if code.gauche != None:\n",
    "            lg = longueur_moyenne_rec(code.gauche, profondeur+1)\n",
    "        if code.droite != None:\n",
    "            ld = longueur_moyenne_rec(code.droite, profondeur+1)\n",
    "        return lg+ld\n",
    "    \n",
    "    return longueur_moyenne_rec(code, 0)"
   ]
  },
  {
   "cell_type": "code",
   "execution_count": 7,
   "metadata": {},
   "outputs": [
    {
     "data": {
      "text/plain": [
       "3.9438"
      ]
     },
     "execution_count": 7,
     "metadata": {},
     "output_type": "execute_result"
    }
   ],
   "source": [
    "longueur_moyenne(code)"
   ]
  },
  {
   "cell_type": "code",
   "execution_count": 8,
   "metadata": {},
   "outputs": [],
   "source": [
    "def creer_mots(arbre):\n",
    "    file = [(\"\", arbre)]\n",
    "    dico = dict()\n",
    "    while file != []:\n",
    "        code, sousarbre = file.pop()\n",
    "        if sousarbre.gauche == None and sousarbre.droite == None: #sousarbre est une feuille\n",
    "            dico[sousarbre.lettre] = code\n",
    "        else: #sousarbre est un noeud\n",
    "            file.append((code+\"0\", sousarbre.gauche))\n",
    "            file.append((code+'1', sousarbre.droite))\n",
    "    return dico"
   ]
  },
  {
   "cell_type": "code",
   "execution_count": 9,
   "metadata": {},
   "outputs": [
    {
     "name": "stdout",
     "output_type": "stream",
     "text": [
      "{' ': '111', 'e': '110', 's': '1011', 'a': '1010', 'n': '1001', 'i': '1000', 'y': '0111111111', 'z': '01111111101', 'k': '011111111001', 'w': '011111111000', 'j': '011111110', 'x': '01111110', 'g': '0111110', 'q': '0111101', 'f': '0111100', 'd': '01110', 't': '0110', 'r': '0101', 'c': '01001', 'p': '01000', 'u': '0011', 'm': '00101', 'b': '0010011', 'h': '0010010', 'v': '001000', 'l': '0001', 'o': '0000'}\n"
     ]
    }
   ],
   "source": [
    "codage = creer_mots(code)\n",
    "print(codage)"
   ]
  },
  {
   "cell_type": "code",
   "execution_count": 19,
   "metadata": {},
   "outputs": [],
   "source": [
    "def compresser(fichier, codage):\n",
    "    texte = \"\"\n",
    "    with open((fichier+\".txt\")) as f:\n",
    "        texte = f.read()\n",
    "   # print(\"Lettres lues: \", len(texte))\n",
    "        \n",
    "    res = \"\"\n",
    "    for lettre in texte:\n",
    "        if lettre == \"\\n\":\n",
    "            res += '\\n'\n",
    "        if lettre == '\\t':\n",
    "            res += '\\t'\n",
    "        else:\n",
    "            res += codage[lettre]\n",
    "    with open(fichier+'.huff', 'w') as f:\n",
    "        f.write(res)\n",
    "    #print(\"Bits écrits: \", len(res))"
   ]
  },
  {
   "cell_type": "code",
   "execution_count": 11,
   "metadata": {},
   "outputs": [
    {
     "ename": "FileNotFoundError",
     "evalue": "[Errno 2] No such file or directory: 'extrait2.txt'",
     "output_type": "error",
     "traceback": [
      "\u001b[1;31m---------------------------------------------------------------------------\u001b[0m",
      "\u001b[1;31mFileNotFoundError\u001b[0m                         Traceback (most recent call last)",
      "Input \u001b[1;32mIn [11]\u001b[0m, in \u001b[0;36m<cell line: 1>\u001b[1;34m()\u001b[0m\n\u001b[1;32m----> 1\u001b[0m \u001b[43mcompresser\u001b[49m\u001b[43m(\u001b[49m\u001b[38;5;124;43m\"\u001b[39;49m\u001b[38;5;124;43mextrait2\u001b[39;49m\u001b[38;5;124;43m\"\u001b[39;49m\u001b[43m,\u001b[49m\u001b[43m \u001b[49m\u001b[43mcodage\u001b[49m\u001b[43m)\u001b[49m\n",
      "Input \u001b[1;32mIn [10]\u001b[0m, in \u001b[0;36mcompresser\u001b[1;34m(fichier, codage)\u001b[0m\n\u001b[0;32m      1\u001b[0m \u001b[38;5;28;01mdef\u001b[39;00m \u001b[38;5;21mcompresser\u001b[39m(fichier, codage):\n\u001b[0;32m      2\u001b[0m     texte \u001b[38;5;241m=\u001b[39m \u001b[38;5;124m\"\u001b[39m\u001b[38;5;124m\"\u001b[39m\n\u001b[1;32m----> 3\u001b[0m     \u001b[38;5;28;01mwith\u001b[39;00m \u001b[38;5;28;43mopen\u001b[39;49m\u001b[43m(\u001b[49m\u001b[43m(\u001b[49m\u001b[43mfichier\u001b[49m\u001b[38;5;241;43m+\u001b[39;49m\u001b[38;5;124;43m\"\u001b[39;49m\u001b[38;5;124;43m.txt\u001b[39;49m\u001b[38;5;124;43m\"\u001b[39;49m\u001b[43m)\u001b[49m\u001b[43m)\u001b[49m \u001b[38;5;28;01mas\u001b[39;00m f:\n\u001b[0;32m      4\u001b[0m         texte \u001b[38;5;241m=\u001b[39m f\u001b[38;5;241m.\u001b[39mread()\n\u001b[0;32m      5\u001b[0m     \u001b[38;5;28mprint\u001b[39m(\u001b[38;5;124m\"\u001b[39m\u001b[38;5;124mLettres lues: \u001b[39m\u001b[38;5;124m\"\u001b[39m, \u001b[38;5;28mlen\u001b[39m(texte))\n",
      "\u001b[1;31mFileNotFoundError\u001b[0m: [Errno 2] No such file or directory: 'extrait2.txt'"
     ]
    }
   ],
   "source": [
    "compresser(\"extrait2\", codage)"
   ]
  },
  {
   "cell_type": "code",
   "execution_count": 12,
   "metadata": {},
   "outputs": [],
   "source": [
    "def decompresser(fichier, codage):\n",
    "    decodage = {v: k for k, v in codage.items()}\n",
    "    compresse = \"\"\n",
    "    nb_bits = 0\n",
    "    \n",
    "    res = \"\"\n",
    "    with open((fichier+\".huff\")) as f:\n",
    "        pattern = \"\"\n",
    "        while True:\n",
    "            c = f.read(1)\n",
    "            if c == \"\":\n",
    "                break\n",
    "            pattern += c\n",
    "            if pattern in decodage.keys():\n",
    "                res += decodage[pattern]\n",
    "                pattern = \"\"\n",
    "            nb_bits +=1\n",
    "            \n",
    "    print(\"bits lus: \", nb_bits)\n",
    "        \n",
    "    with open(fichier+'.dec_huff', 'w') as f:\n",
    "        f.write(res)\n",
    "    print(\"lettres écrites: \", len(res))"
   ]
  },
  {
   "cell_type": "code",
   "execution_count": null,
   "metadata": {},
   "outputs": [],
   "source": [
    "decompresser(\"extrait2\", codage)"
   ]
  },
  {
   "cell_type": "code",
   "execution_count": 23,
   "metadata": {},
   "outputs": [],
   "source": [
    "def occurences(filename):\n",
    "    f = open(filename, 'r')\n",
    "    count = {}\n",
    "    total = 0\n",
    "    c = f.read(1)\n",
    "    while c != '':\n",
    "        if ord(c) < 32 : c = '\\n'\n",
    "        if c in count:\n",
    "            count[c] += 1\n",
    "        else:\n",
    "            count[c] = 1\n",
    "        total += 1\n",
    "        c = f.read(1)\n",
    "    for c in count:\n",
    "        count[c] /= total\n",
    "    return count"
   ]
  },
  {
   "cell_type": "code",
   "execution_count": 29,
   "metadata": {},
   "outputs": [
    {
     "name": "stdout",
     "output_type": "stream",
     "text": [
      "taille du fichier source (en octets) = 238145\n",
      "taille du fichier compressé (en octets)   = 134859\n"
     ]
    }
   ],
   "source": [
    "import os\n",
    "\n",
    "\n",
    "source = stat_fichier('manifeste.txt')\n",
    "codage = arbre_huffman(source)\n",
    "dico = creer_mots(codage)\n",
    "compresser('manifeste', dico)\n",
    "print(\"taille du fichier source (en octets) =\", os.stat('manifeste.txt').st_size)\n",
    "print(\"taille du fichier compressé (en octets)   =\", round(os.stat('manifeste.huff').st_size/8))"
   ]
  },
  {
   "cell_type": "code",
   "execution_count": 30,
   "metadata": {},
   "outputs": [
    {
     "data": {
      "text/plain": [
       "1.765881402056963"
      ]
     },
     "execution_count": 30,
     "metadata": {},
     "output_type": "execute_result"
    }
   ],
   "source": [
    "238145/134859"
   ]
  },
  {
   "cell_type": "code",
   "execution_count": null,
   "metadata": {},
   "outputs": [],
   "source": []
  }
 ],
 "metadata": {
  "kernelspec": {
   "display_name": "Python 3 (ipykernel)",
   "language": "python",
   "name": "python3"
  },
  "language_info": {
   "codemirror_mode": {
    "name": "ipython",
    "version": 3
   },
   "file_extension": ".py",
   "mimetype": "text/x-python",
   "name": "python",
   "nbconvert_exporter": "python",
   "pygments_lexer": "ipython3",
   "version": "3.9.12"
  }
 },
 "nbformat": 4,
 "nbformat_minor": 4
}
